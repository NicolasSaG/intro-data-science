{
 "cells": [
  {
   "cell_type": "code",
   "execution_count": 3,
   "id": "fc8c0225",
   "metadata": {},
   "outputs": [],
   "source": [
    "import numpy as np\n",
    "import math"
   ]
  },
  {
   "cell_type": "markdown",
   "id": "c7e284c6",
   "metadata": {},
   "source": [
    "# Arrays "
   ]
  },
  {
   "cell_type": "code",
   "execution_count": 4,
   "id": "ebcb2e08",
   "metadata": {},
   "outputs": [
    {
     "name": "stdout",
     "output_type": "stream",
     "text": [
      "[1 2 3]\n"
     ]
    }
   ],
   "source": [
    "array = np.array([1,2,3])\n",
    "print(array)"
   ]
  },
  {
   "cell_type": "code",
   "execution_count": 6,
   "id": "14403857",
   "metadata": {},
   "outputs": [
    {
     "name": "stdout",
     "output_type": "stream",
     "text": [
      "[[1 2 3]\n",
      " [4 5 6]]\n"
     ]
    }
   ],
   "source": [
    "b = np.array([[1,2,3], [4,5,6]])\n",
    "print(b)"
   ]
  },
  {
   "cell_type": "code",
   "execution_count": 8,
   "id": "0d6c4ce3",
   "metadata": {},
   "outputs": [
    {
     "data": {
      "text/plain": [
       "(2, 3)"
      ]
     },
     "execution_count": 8,
     "metadata": {},
     "output_type": "execute_result"
    }
   ],
   "source": [
    "b.shape"
   ]
  },
  {
   "cell_type": "code",
   "execution_count": 7,
   "id": "670090ca",
   "metadata": {},
   "outputs": [
    {
     "data": {
      "text/plain": [
       "dtype('int32')"
      ]
     },
     "execution_count": 7,
     "metadata": {},
     "output_type": "execute_result"
    }
   ],
   "source": [
    "array.dtype"
   ]
  },
  {
   "cell_type": "code",
   "execution_count": 11,
   "id": "8df81f7a",
   "metadata": {},
   "outputs": [
    {
     "data": {
      "text/plain": [
       "'float64'"
      ]
     },
     "execution_count": 11,
     "metadata": {},
     "output_type": "execute_result"
    }
   ],
   "source": [
    "c = np.array([2.3,5,1.1])\n",
    "c.dtype.name"
   ]
  },
  {
   "cell_type": "code",
   "execution_count": 12,
   "id": "8d50345c",
   "metadata": {},
   "outputs": [
    {
     "data": {
      "text/plain": [
       "array([2.3, 5. , 1.1])"
      ]
     },
     "execution_count": 12,
     "metadata": {},
     "output_type": "execute_result"
    }
   ],
   "source": [
    "c"
   ]
  },
  {
   "cell_type": "code",
   "execution_count": 16,
   "id": "eabd5dfc",
   "metadata": {},
   "outputs": [
    {
     "name": "stdout",
     "output_type": "stream",
     "text": [
      "[[0. 0. 0.]\n",
      " [0. 0. 0.]]\n",
      "[[1. 1. 1. 1. 1.]\n",
      " [1. 1. 1. 1. 1.]\n",
      " [1. 1. 1. 1. 1.]]\n"
     ]
    }
   ],
   "source": [
    "#array vacios\n",
    "d = np.zeros((2,3))\n",
    "print(d)\n",
    "e = np.ones((3,5))\n",
    "print(e)"
   ]
  },
  {
   "cell_type": "code",
   "execution_count": 18,
   "id": "92976e9b",
   "metadata": {},
   "outputs": [
    {
     "data": {
      "text/plain": [
       "array([[0.19869548, 0.1054865 , 0.53948977],\n",
       "       [0.00495991, 0.20741826, 0.45777939]])"
      ]
     },
     "execution_count": 18,
     "metadata": {},
     "output_type": "execute_result"
    }
   ],
   "source": [
    "np.random.rand(2,3)"
   ]
  },
  {
   "cell_type": "code",
   "execution_count": 26,
   "id": "75a6e6cf",
   "metadata": {},
   "outputs": [
    {
     "name": "stdout",
     "output_type": "stream",
     "text": [
      "[10 12 14 16 18 20 22 24 26 28 30 32 34 36 38 40 42 44 46 48]\n"
     ]
    }
   ],
   "source": [
    "f = np.arange(10,50, 2)\n",
    "print(f)"
   ]
  },
  {
   "cell_type": "markdown",
   "id": "6b68d797",
   "metadata": {},
   "source": [
    "# Operaciones con arrays"
   ]
  },
  {
   "cell_type": "code",
   "execution_count": 27,
   "id": "e5b295cf",
   "metadata": {},
   "outputs": [
    {
     "name": "stdout",
     "output_type": "stream",
     "text": [
      "[ 9 18 27 36]\n"
     ]
    }
   ],
   "source": [
    "a = np.array([10,20,30,40])\n",
    "b = np.array([1,2,3,4])\n",
    "c = a-b\n",
    "print(c)\n"
   ]
  },
  {
   "cell_type": "code",
   "execution_count": 28,
   "id": "661a1093",
   "metadata": {},
   "outputs": [
    {
     "data": {
      "text/plain": [
       "array([-17.22222222, -22.77777778, -20.        , -25.55555556,\n",
       "       -17.22222222])"
      ]
     },
     "execution_count": 28,
     "metadata": {},
     "output_type": "execute_result"
    }
   ],
   "source": [
    "fd = np.array([0,-10,-5,-15,0])\n",
    "celcius = (fd -31)*(5/9)\n",
    "celcius"
   ]
  },
  {
   "cell_type": "code",
   "execution_count": 29,
   "id": "dec11b3f",
   "metadata": {},
   "outputs": [
    {
     "data": {
      "text/plain": [
       "array([ True, False, False, False,  True])"
      ]
     },
     "execution_count": 29,
     "metadata": {},
     "output_type": "execute_result"
    }
   ],
   "source": [
    "celcius > -20"
   ]
  },
  {
   "cell_type": "code",
   "execution_count": 30,
   "id": "a9f61b3e",
   "metadata": {},
   "outputs": [
    {
     "data": {
      "text/plain": [
       "array([False, False,  True, False, False])"
      ]
     },
     "execution_count": 30,
     "metadata": {},
     "output_type": "execute_result"
    }
   ],
   "source": [
    "celcius%2 == 0"
   ]
  },
  {
   "cell_type": "code",
   "execution_count": 31,
   "id": "1d2f194d",
   "metadata": {},
   "outputs": [
    {
     "name": "stdout",
     "output_type": "stream",
     "text": [
      "[[2 0]\n",
      " [0 4]]\n",
      "[[5 4]\n",
      " [3 4]]\n"
     ]
    }
   ],
   "source": [
    "A = np.array([[1,1], [0,1]])\n",
    "B = np.array([[2,0], [3,4]])\n",
    "print(A*B)\n",
    "print(A@B)"
   ]
  },
  {
   "cell_type": "code",
   "execution_count": 33,
   "id": "5775862d",
   "metadata": {},
   "outputs": [
    {
     "name": "stdout",
     "output_type": "stream",
     "text": [
      "3\n"
     ]
    }
   ],
   "source": [
    "def a():\n",
    "    return [\"asd\", \"c\", \"c\"]\n",
    "\n",
    "print(len(a()))"
   ]
  }
 ],
 "metadata": {
  "kernelspec": {
   "display_name": "Python 3 (ipykernel)",
   "language": "python",
   "name": "python3"
  },
  "language_info": {
   "codemirror_mode": {
    "name": "ipython",
    "version": 3
   },
   "file_extension": ".py",
   "mimetype": "text/x-python",
   "name": "python",
   "nbconvert_exporter": "python",
   "pygments_lexer": "ipython3",
   "version": "3.9.5"
  }
 },
 "nbformat": 4,
 "nbformat_minor": 5
}
